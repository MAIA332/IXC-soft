{
 "cells": [
  {
   "cell_type": "markdown",
   "metadata": {},
   "source": [
    "## Teste de importação:"
   ]
  },
  {
   "cell_type": "code",
   "execution_count": null,
   "metadata": {},
   "outputs": [],
   "source": [
    "from modules import formatter"
   ]
  },
  {
   "cell_type": "code",
   "execution_count": null,
   "metadata": {},
   "outputs": [],
   "source": [
    "g = formatter.former(\"/home/baia-13/Documentos/IXC-soft\",\"sample\")"
   ]
  },
  {
   "cell_type": "code",
   "execution_count": null,
   "metadata": {},
   "outputs": [],
   "source": [
    "g.features"
   ]
  },
  {
   "cell_type": "code",
   "execution_count": 14,
   "metadata": {},
   "outputs": [],
   "source": [
    "df_teste = g.features"
   ]
  },
  {
   "cell_type": "markdown",
   "metadata": {},
   "source": [
    "#### Define um dataframe teste ssomente com os dados relevantes:"
   ]
  },
  {
   "cell_type": "code",
   "execution_count": 17,
   "metadata": {},
   "outputs": [],
   "source": [
    "df_teste = df_teste.drop([\"media\"],axis=1)"
   ]
  },
  {
   "cell_type": "markdown",
   "metadata": {},
   "source": [
    "#### Defina uma coluna com a media das notas de telefone e uma com a media das notas das visitas:"
   ]
  },
  {
   "cell_type": "code",
   "execution_count": 57,
   "metadata": {},
   "outputs": [],
   "source": [
    "df_teste[\"Media_Telefone\"], df_teste[\"Media_Visita\"] = df_teste[\"Nota_telefone\"].mean(), df_teste[\"Nota_visita\"].mean()"
   ]
  },
  {
   "cell_type": "code",
   "execution_count": 63,
   "metadata": {},
   "outputs": [
    {
     "data": {
      "text/plain": [
       "7.85"
      ]
     },
     "execution_count": 63,
     "metadata": {},
     "output_type": "execute_result"
    }
   ],
   "source": [
    "df_teste[\"Media_Telefone\"][0]"
   ]
  },
  {
   "cell_type": "code",
   "execution_count": 109,
   "metadata": {},
   "outputs": [
    {
     "name": "stdout",
     "output_type": "stream",
     "text": [
      "O.S - ONU Alarmada:7.85\n",
      "O.S - ONU Alarmada:7.85\n",
      "O.S - Problema de energia (ONU/Fonte):7.85\n",
      "O.S - Problema de energia (ONU/Fonte):7.85\n",
      "O.S - Sem Conexao:7.85\n",
      "O.S - Sem Conexao:7.85\n",
      "O.S - Lentidao:7.85\n",
      "O.S - Lentidao:7.85\n",
      "O.S - Lentidao:7.85\n",
      "O.S - Lentidao:7.85\n",
      "O.S - Problema de energia (ONU/Fonte):7.85\n",
      "O.S - Problema de energia (ONU/Fonte):7.85\n",
      "O.S - Problema de energia (ONU/Fonte):7.85\n",
      "O.S - Problema de energia (ONU/Fonte):7.85\n",
      "O.S - ONU Alarmada:7.85\n",
      "O.S - ONU Alarmada:7.85\n",
      "O.S - ONU Alarmada:7.85\n",
      "O.S - ONU Alarmada:7.85\n",
      "O.S - ONU Alarmada:7.85\n",
      "O.S - ONU Alarmada:7.85\n"
     ]
    },
    {
     "data": {
      "text/plain": [
       "[{'O.S - ONU Alarmada': 7.85},\n",
       " {'O.S - ONU Alarmada': 7.85},\n",
       " {'O.S - Problema de energia (ONU/Fonte)': 7.85},\n",
       " {'O.S - Problema de energia (ONU/Fonte)': 7.85},\n",
       " {'O.S - Sem Conexao': 7.85},\n",
       " {'O.S - Sem Conexao': 7.85},\n",
       " {'O.S - Lentidao': 7.85},\n",
       " {'O.S - Lentidao': 7.85},\n",
       " {'O.S - Lentidao': 7.85},\n",
       " {'O.S - Lentidao': 7.85},\n",
       " {'O.S - Problema de energia (ONU/Fonte)': 7.85},\n",
       " {'O.S - Problema de energia (ONU/Fonte)': 7.85},\n",
       " {'O.S - Problema de energia (ONU/Fonte)': 7.85},\n",
       " {'O.S - Problema de energia (ONU/Fonte)': 7.85},\n",
       " {'O.S - ONU Alarmada': 7.85},\n",
       " {'O.S - ONU Alarmada': 7.85},\n",
       " {'O.S - ONU Alarmada': 7.85},\n",
       " {'O.S - ONU Alarmada': 7.85},\n",
       " {'O.S - ONU Alarmada': 7.85},\n",
       " {'O.S - ONU Alarmada': 7.85}]"
      ]
     },
     "execution_count": 109,
     "metadata": {},
     "output_type": "execute_result"
    }
   ],
   "source": [
    "aux = []\n",
    "count = 0\n",
    "while count < len(df_teste):\n",
    "    aux.append({df_teste['Assunto BD'][count]:df_teste['Media_Telefone'][count]})\n",
    "    print(f\"{df_teste['Assunto BD'][count]}:{df_teste['Media_Telefone'][count]}\")\n",
    "    count+=1\n",
    "\n",
    "aux\n",
    "#print(f\"{sum(aux)/len(aux)}\")"
   ]
  },
  {
   "cell_type": "markdown",
   "metadata": {},
   "source": [
    "#### Teste para visualização dos não repetidos na coluna assunto "
   ]
  },
  {
   "cell_type": "code",
   "execution_count": 47,
   "metadata": {},
   "outputs": [
    {
     "data": {
      "text/plain": [
       "array(['O.S - ONU Alarmada', 'O.S - Problema de energia (ONU/Fonte)',\n",
       "       'O.S - Sem Conexao', 'O.S - Lentidao'], dtype=object)"
      ]
     },
     "execution_count": 47,
     "metadata": {},
     "output_type": "execute_result"
    }
   ],
   "source": [
    "df_teste[\"Assunto BD\"].unique()"
   ]
  },
  {
   "cell_type": "markdown",
   "metadata": {},
   "source": [
    "#### Cria um dicionario que contem as medias de telefone e visita:"
   ]
  },
  {
   "cell_type": "code",
   "execution_count": 39,
   "metadata": {},
   "outputs": [],
   "source": [
    "df_mean = {i:df_teste[i].mean() for i in df_teste if i == \"Media_Telefone\" or i ==\"Media_Visita\"}"
   ]
  },
  {
   "cell_type": "code",
   "execution_count": 40,
   "metadata": {},
   "outputs": [
    {
     "data": {
      "text/plain": [
       "{'Media_Telefone': 7.849999999999999, 'Media_Visita': 8.900000000000002}"
      ]
     },
     "execution_count": 40,
     "metadata": {},
     "output_type": "execute_result"
    }
   ],
   "source": [
    "df_mean "
   ]
  },
  {
   "cell_type": "markdown",
   "metadata": {},
   "source": [
    "#### Cria um dicionario que contém os assuntos:"
   ]
  },
  {
   "cell_type": "code",
   "execution_count": 111,
   "metadata": {},
   "outputs": [],
   "source": [
    "df_mean_asst = {i:[x for x in df_teste[i].unique()] for i in df_teste if i == \"Assunto BD\" }"
   ]
  },
  {
   "cell_type": "code",
   "execution_count": 112,
   "metadata": {},
   "outputs": [
    {
     "data": {
      "text/plain": [
       "{'Assunto BD': ['O.S - ONU Alarmada',\n",
       "  'O.S - Problema de energia (ONU/Fonte)',\n",
       "  'O.S - Sem Conexao',\n",
       "  'O.S - Lentidao']}"
      ]
     },
     "execution_count": 112,
     "metadata": {},
     "output_type": "execute_result"
    }
   ],
   "source": [
    "df_mean_asst"
   ]
  },
  {
   "cell_type": "code",
   "execution_count": 127,
   "metadata": {},
   "outputs": [
    {
     "name": "stdout",
     "output_type": "stream",
     "text": [
      "['O.S - ONU Alarmada', 'O.S - ONU Alarmada', 'O.S - Problema de energia (ONU/Fonte)', 'O.S - Problema de energia (ONU/Fonte)', 'O.S - Sem Conexao', 'O.S - Sem Conexao', 'O.S - Lentidao', 'O.S - Lentidao', 'O.S - Lentidao', 'O.S - Lentidao', 'O.S - Problema de energia (ONU/Fonte)', 'O.S - Problema de energia (ONU/Fonte)', 'O.S - Problema de energia (ONU/Fonte)', 'O.S - Problema de energia (ONU/Fonte)', 'O.S - ONU Alarmada', 'O.S - ONU Alarmada', 'O.S - ONU Alarmada', 'O.S - ONU Alarmada', 'O.S - ONU Alarmada', 'O.S - ONU Alarmada']\n",
      "[]\n",
      "[]\n",
      "[10, 10, 9, 7, 9, 5, 9, 9, 9, 9, 5, 5, 5, 5, 10, 5, 9, 9, 9, 9]\n",
      "[]\n",
      "[]\n",
      "[]\n",
      "[]\n",
      "[]\n",
      "[]\n"
     ]
    }
   ],
   "source": [
    "for i in df_teste:\n",
    "    a = [x for x in df_teste[i] if i == \"Assunto BD\" ]\n",
    "    b=[y for y in df_teste[i] if i == \"Nota_telefone\"]\n",
    "    print(f\"{a}\\n{b}\")"
   ]
  },
  {
   "cell_type": "markdown",
   "metadata": {},
   "source": [
    "#### 1. Adiciona no dicionário acima as médias por assunto:"
   ]
  },
  {
   "cell_type": "markdown",
   "metadata": {},
   "source": [
    "##### 1.1 Separa as notas por assunto e calcula a media:"
   ]
  },
  {
   "cell_type": "code",
   "execution_count": 115,
   "metadata": {},
   "outputs": [],
   "source": [
    "index = 0\n",
    "while index < len(df_teste):\n",
    "    df_mean_asst_aux = {i:(sum([x for x in df_teste[i] if df_teste[\"Assunto BD\"][index] == \"O.S - Lentidao\"])/len(df_teste[i])) for i in df_teste if i == \"Media_Telefone\"}\n",
    "    index+=1"
   ]
  },
  {
   "cell_type": "code",
   "execution_count": 116,
   "metadata": {},
   "outputs": [
    {
     "data": {
      "text/plain": [
       "{'Media_Telefone': 0.0}"
      ]
     },
     "execution_count": 116,
     "metadata": {},
     "output_type": "execute_result"
    }
   ],
   "source": [
    "df_mean_asst_aux"
   ]
  },
  {
   "cell_type": "markdown",
   "metadata": {},
   "source": [
    "--- "
   ]
  },
  {
   "cell_type": "markdown",
   "metadata": {},
   "source": [
    "## Validação de processos:"
   ]
  },
  {
   "cell_type": "code",
   "execution_count": null,
   "metadata": {},
   "outputs": [],
   "source": [
    "import json\n",
    "import pandas as pd"
   ]
  },
  {
   "cell_type": "code",
   "execution_count": null,
   "metadata": {},
   "outputs": [],
   "source": [
    "with open(\"/home/baia-13/Documentos/IXC-soft/data/sample.json\") as file:\n",
    "    data = json.load(file)"
   ]
  },
  {
   "cell_type": "code",
   "execution_count": null,
   "metadata": {},
   "outputs": [],
   "source": [
    "df = pd.DataFrame(data)\n",
    "\n",
    "# Converter a coluna 'Horario_Fechamento' para formato de data e criar um campo separado para hora\n",
    "df['Horario_Fechamento'] = pd.to_datetime(df['Horario_Fechamento'], format='%d-%m-%Y:%H:%M')\n",
    "df['Hora_Fechamento'] = df['Horario_Fechamento'].dt.time\n",
    "df[\"Data_Fechamento\"] = df['Horario_Fechamento'].dt.date\n",
    "df"
   ]
  },
  {
   "cell_type": "code",
   "execution_count": null,
   "metadata": {},
   "outputs": [],
   "source": [
    "features = df.drop([\"Endereço\",\"ID_Fechamento\",\"ID\",\"ID_Assunto_BD\",\"Mensagem\",\"Assunto\",\"Horario_Fechamento\"],axis=1)\n",
    "features"
   ]
  },
  {
   "cell_type": "code",
   "execution_count": null,
   "metadata": {},
   "outputs": [],
   "source": [
    "from visual import graph"
   ]
  },
  {
   "cell_type": "code",
   "execution_count": null,
   "metadata": {},
   "outputs": [],
   "source": []
  }
 ],
 "metadata": {
  "kernelspec": {
   "display_name": "Python 3",
   "language": "python",
   "name": "python3"
  },
  "language_info": {
   "codemirror_mode": {
    "name": "ipython",
    "version": 3
   },
   "file_extension": ".py",
   "mimetype": "text/x-python",
   "name": "python",
   "nbconvert_exporter": "python",
   "pygments_lexer": "ipython3",
   "version": "3.10.12"
  }
 },
 "nbformat": 4,
 "nbformat_minor": 2
}
